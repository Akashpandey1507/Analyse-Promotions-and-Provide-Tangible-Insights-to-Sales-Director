{
 "cells": [
  {
   "cell_type": "code",
   "execution_count": 2,
   "metadata": {},
   "outputs": [],
   "source": [
    "# importing the important libraries\n",
    "import pandas as pd \n",
    "import numpy as np\n",
    "import os"
   ]
  },
  {
   "cell_type": "code",
   "execution_count": 8,
   "metadata": {},
   "outputs": [],
   "source": [
    "# All files\n",
    "file1 = r\"https://raw.githubusercontent.com/Akashpandey1507/Analyse-Promotions-and-Provide-Tangible-Insights-to-Sales-Director/main/raw_datasets/dim_campaigns.csv\"\n",
    "file2 = r\"https://raw.githubusercontent.com/Akashpandey1507/Analyse-Promotions-and-Provide-Tangible-Insights-to-Sales-Director/main/raw_datasets/dim_products.csv\"\n",
    "file3 = r\"https://raw.githubusercontent.com/Akashpandey1507/Analyse-Promotions-and-Provide-Tangible-Insights-to-Sales-Director/main/raw_datasets/dim_stores.csv\"\n",
    "file4 = r\"https://raw.githubusercontent.com/Akashpandey1507/Analyse-Promotions-and-Provide-Tangible-Insights-to-Sales-Director/main/raw_datasets/fact_events.csv\""
   ]
  },
  {
   "cell_type": "code",
   "execution_count": 10,
   "metadata": {},
   "outputs": [],
   "source": [
    "dim_campaigns = pd.read_csv(file1)\n",
    "dim_products = pd.read_csv(file2)\n",
    "dim_stores = pd.read_csv(file3)\n",
    "fact_events = pd.read_csv(file4)"
   ]
  },
  {
   "cell_type": "code",
   "execution_count": 11,
   "metadata": {},
   "outputs": [
    {
     "data": {
      "text/plain": [
       "Index(['campaign_id', 'campaign_name', 'start_date', 'end_date'], dtype='object')"
      ]
     },
     "execution_count": 11,
     "metadata": {},
     "output_type": "execute_result"
    }
   ],
   "source": [
    "dim_campaigns.columns"
   ]
  },
  {
   "cell_type": "code",
   "execution_count": 12,
   "metadata": {},
   "outputs": [
    {
     "data": {
      "text/plain": [
       "Index(['product_code', 'product_name', 'category'], dtype='object')"
      ]
     },
     "execution_count": 12,
     "metadata": {},
     "output_type": "execute_result"
    }
   ],
   "source": [
    "dim_products.columns"
   ]
  },
  {
   "cell_type": "code",
   "execution_count": 20,
   "metadata": {},
   "outputs": [
    {
     "data": {
      "text/plain": [
       "Index(['store_id', 'city'], dtype='object')"
      ]
     },
     "execution_count": 20,
     "metadata": {},
     "output_type": "execute_result"
    }
   ],
   "source": [
    "dim_stores.columns"
   ]
  },
  {
   "cell_type": "code",
   "execution_count": 14,
   "metadata": {},
   "outputs": [
    {
     "data": {
      "text/plain": [
       "Index(['event_id', 'store_id', 'campaign_id', 'product_code', 'base_price',\n",
       "       'promo_type', 'quantity_sold(before_promo)',\n",
       "       'quantity_sold(after_promo)'],\n",
       "      dtype='object')"
      ]
     },
     "execution_count": 14,
     "metadata": {},
     "output_type": "execute_result"
    }
   ],
   "source": [
    "fact_events.columns"
   ]
  },
  {
   "cell_type": "code",
   "execution_count": 23,
   "metadata": {},
   "outputs": [
    {
     "data": {
      "text/plain": [
       "Index(['event_id', 'store_id', 'campaign_id', 'product_code', 'base_price',\n",
       "       'promo_type', 'quantity_sold(before_promo)',\n",
       "       'quantity_sold(after_promo)', 'city'],\n",
       "      dtype='object')"
      ]
     },
     "execution_count": 23,
     "metadata": {},
     "output_type": "execute_result"
    }
   ],
   "source": [
    "# Join the table \"fact_events\" and \"dim_stores\"\n",
    "df1 = fact_events.merge(dim_stores, on=\"store_id\")\n",
    "df1.columns"
   ]
  },
  {
   "cell_type": "code",
   "execution_count": 26,
   "metadata": {},
   "outputs": [
    {
     "data": {
      "text/plain": [
       "Index(['event_id', 'store_id', 'campaign_id', 'product_code', 'base_price',\n",
       "       'promo_type', 'quantity_sold(before_promo)',\n",
       "       'quantity_sold(after_promo)', 'city', 'product_name', 'category'],\n",
       "      dtype='object')"
      ]
     },
     "execution_count": 26,
     "metadata": {},
     "output_type": "execute_result"
    }
   ],
   "source": [
    "# Join the table \"df1\" and \"dim_products\"\n",
    "df2 = df1.merge(dim_products, on=\"product_code\")\n",
    "df2.columns"
   ]
  },
  {
   "cell_type": "code",
   "execution_count": 27,
   "metadata": {},
   "outputs": [
    {
     "data": {
      "text/plain": [
       "Index(['event_id', 'store_id', 'campaign_id', 'product_code', 'base_price',\n",
       "       'promo_type', 'quantity_sold(before_promo)',\n",
       "       'quantity_sold(after_promo)', 'city', 'product_name', 'category',\n",
       "       'campaign_name', 'start_date', 'end_date'],\n",
       "      dtype='object')"
      ]
     },
     "execution_count": 27,
     "metadata": {},
     "output_type": "execute_result"
    }
   ],
   "source": [
    "# Join the table \"df2\" and \"dim_campaigns\"\n",
    "df3 = df2.merge(dim_campaigns, on=\"campaign_id\")\n",
    "df3.columns"
   ]
  },
  {
   "cell_type": "code",
   "execution_count": 28,
   "metadata": {},
   "outputs": [
    {
     "data": {
      "text/html": [
       "<div>\n",
       "<style scoped>\n",
       "    .dataframe tbody tr th:only-of-type {\n",
       "        vertical-align: middle;\n",
       "    }\n",
       "\n",
       "    .dataframe tbody tr th {\n",
       "        vertical-align: top;\n",
       "    }\n",
       "\n",
       "    .dataframe thead th {\n",
       "        text-align: right;\n",
       "    }\n",
       "</style>\n",
       "<table border=\"1\" class=\"dataframe\">\n",
       "  <thead>\n",
       "    <tr style=\"text-align: right;\">\n",
       "      <th></th>\n",
       "      <th>event_id</th>\n",
       "      <th>store_id</th>\n",
       "      <th>campaign_id</th>\n",
       "      <th>product_code</th>\n",
       "      <th>base_price</th>\n",
       "      <th>promo_type</th>\n",
       "      <th>quantity_sold(before_promo)</th>\n",
       "      <th>quantity_sold(after_promo)</th>\n",
       "      <th>city</th>\n",
       "      <th>product_name</th>\n",
       "      <th>category</th>\n",
       "      <th>campaign_name</th>\n",
       "      <th>start_date</th>\n",
       "      <th>end_date</th>\n",
       "    </tr>\n",
       "  </thead>\n",
       "  <tbody>\n",
       "    <tr>\n",
       "      <th>0</th>\n",
       "      <td>7f650b</td>\n",
       "      <td>STCBE-2</td>\n",
       "      <td>CAMP_SAN_01</td>\n",
       "      <td>P11</td>\n",
       "      <td>190</td>\n",
       "      <td>50% OFF</td>\n",
       "      <td>34</td>\n",
       "      <td>52</td>\n",
       "      <td>Coimbatore</td>\n",
       "      <td>Atliq_Doodh_Kesar_Body_Lotion (200ML)</td>\n",
       "      <td>Personal Care</td>\n",
       "      <td>Sankranti</td>\n",
       "      <td>10-01-2024</td>\n",
       "      <td>16-01-2024</td>\n",
       "    </tr>\n",
       "    <tr>\n",
       "      <th>1</th>\n",
       "      <td>5f2bb8</td>\n",
       "      <td>STBLR-8</td>\n",
       "      <td>CAMP_SAN_01</td>\n",
       "      <td>P11</td>\n",
       "      <td>190</td>\n",
       "      <td>50% OFF</td>\n",
       "      <td>45</td>\n",
       "      <td>62</td>\n",
       "      <td>Bengaluru</td>\n",
       "      <td>Atliq_Doodh_Kesar_Body_Lotion (200ML)</td>\n",
       "      <td>Personal Care</td>\n",
       "      <td>Sankranti</td>\n",
       "      <td>10-01-2024</td>\n",
       "      <td>16-01-2024</td>\n",
       "    </tr>\n",
       "    <tr>\n",
       "      <th>2</th>\n",
       "      <td>6e5da9</td>\n",
       "      <td>STVJD-0</td>\n",
       "      <td>CAMP_SAN_01</td>\n",
       "      <td>P11</td>\n",
       "      <td>190</td>\n",
       "      <td>50% OFF</td>\n",
       "      <td>25</td>\n",
       "      <td>35</td>\n",
       "      <td>Vijayawada</td>\n",
       "      <td>Atliq_Doodh_Kesar_Body_Lotion (200ML)</td>\n",
       "      <td>Personal Care</td>\n",
       "      <td>Sankranti</td>\n",
       "      <td>10-01-2024</td>\n",
       "      <td>16-01-2024</td>\n",
       "    </tr>\n",
       "    <tr>\n",
       "      <th>3</th>\n",
       "      <td>3181a7</td>\n",
       "      <td>STCBE-1</td>\n",
       "      <td>CAMP_SAN_01</td>\n",
       "      <td>P11</td>\n",
       "      <td>190</td>\n",
       "      <td>50% OFF</td>\n",
       "      <td>28</td>\n",
       "      <td>31</td>\n",
       "      <td>Coimbatore</td>\n",
       "      <td>Atliq_Doodh_Kesar_Body_Lotion (200ML)</td>\n",
       "      <td>Personal Care</td>\n",
       "      <td>Sankranti</td>\n",
       "      <td>10-01-2024</td>\n",
       "      <td>16-01-2024</td>\n",
       "    </tr>\n",
       "    <tr>\n",
       "      <th>4</th>\n",
       "      <td>c22ead</td>\n",
       "      <td>STBLR-6</td>\n",
       "      <td>CAMP_SAN_01</td>\n",
       "      <td>P11</td>\n",
       "      <td>190</td>\n",
       "      <td>50% OFF</td>\n",
       "      <td>43</td>\n",
       "      <td>66</td>\n",
       "      <td>Bengaluru</td>\n",
       "      <td>Atliq_Doodh_Kesar_Body_Lotion (200ML)</td>\n",
       "      <td>Personal Care</td>\n",
       "      <td>Sankranti</td>\n",
       "      <td>10-01-2024</td>\n",
       "      <td>16-01-2024</td>\n",
       "    </tr>\n",
       "  </tbody>\n",
       "</table>\n",
       "</div>"
      ],
      "text/plain": [
       "  event_id store_id  campaign_id product_code  base_price promo_type   \n",
       "0   7f650b  STCBE-2  CAMP_SAN_01          P11         190    50% OFF  \\\n",
       "1   5f2bb8  STBLR-8  CAMP_SAN_01          P11         190    50% OFF   \n",
       "2   6e5da9  STVJD-0  CAMP_SAN_01          P11         190    50% OFF   \n",
       "3   3181a7  STCBE-1  CAMP_SAN_01          P11         190    50% OFF   \n",
       "4   c22ead  STBLR-6  CAMP_SAN_01          P11         190    50% OFF   \n",
       "\n",
       "   quantity_sold(before_promo)  quantity_sold(after_promo)        city   \n",
       "0                           34                          52  Coimbatore  \\\n",
       "1                           45                          62   Bengaluru   \n",
       "2                           25                          35  Vijayawada   \n",
       "3                           28                          31  Coimbatore   \n",
       "4                           43                          66   Bengaluru   \n",
       "\n",
       "                            product_name       category campaign_name   \n",
       "0  Atliq_Doodh_Kesar_Body_Lotion (200ML)  Personal Care     Sankranti  \\\n",
       "1  Atliq_Doodh_Kesar_Body_Lotion (200ML)  Personal Care     Sankranti   \n",
       "2  Atliq_Doodh_Kesar_Body_Lotion (200ML)  Personal Care     Sankranti   \n",
       "3  Atliq_Doodh_Kesar_Body_Lotion (200ML)  Personal Care     Sankranti   \n",
       "4  Atliq_Doodh_Kesar_Body_Lotion (200ML)  Personal Care     Sankranti   \n",
       "\n",
       "   start_date    end_date  \n",
       "0  10-01-2024  16-01-2024  \n",
       "1  10-01-2024  16-01-2024  \n",
       "2  10-01-2024  16-01-2024  \n",
       "3  10-01-2024  16-01-2024  \n",
       "4  10-01-2024  16-01-2024  "
      ]
     },
     "execution_count": 28,
     "metadata": {},
     "output_type": "execute_result"
    }
   ],
   "source": [
    "# Create the merged file copy\n",
    "df = df3.copy()\n",
    "df.head()"
   ]
  },
  {
   "cell_type": "code",
   "execution_count": 29,
   "metadata": {},
   "outputs": [
    {
     "data": {
      "text/plain": [
       "(1500, 14)"
      ]
     },
     "execution_count": 29,
     "metadata": {},
     "output_type": "execute_result"
    }
   ],
   "source": [
    "df.shape"
   ]
  },
  {
   "cell_type": "code",
   "execution_count": 30,
   "metadata": {},
   "outputs": [
    {
     "data": {
      "text/plain": [
       "Index(['event_id', 'store_id', 'campaign_id', 'product_code', 'base_price',\n",
       "       'promo_type', 'quantity_sold(before_promo)',\n",
       "       'quantity_sold(after_promo)', 'city', 'product_name', 'category',\n",
       "       'campaign_name', 'start_date', 'end_date'],\n",
       "      dtype='object')"
      ]
     },
     "execution_count": 30,
     "metadata": {},
     "output_type": "execute_result"
    }
   ],
   "source": [
    "df.columns"
   ]
  },
  {
   "cell_type": "code",
   "execution_count": 31,
   "metadata": {},
   "outputs": [
    {
     "name": "stdout",
     "output_type": "stream",
     "text": [
      "<class 'pandas.core.frame.DataFrame'>\n",
      "RangeIndex: 1500 entries, 0 to 1499\n",
      "Data columns (total 14 columns):\n",
      " #   Column                       Non-Null Count  Dtype \n",
      "---  ------                       --------------  ----- \n",
      " 0   event_id                     1500 non-null   object\n",
      " 1   store_id                     1500 non-null   object\n",
      " 2   campaign_id                  1500 non-null   object\n",
      " 3   product_code                 1500 non-null   object\n",
      " 4   base_price                   1500 non-null   int64 \n",
      " 5   promo_type                   1500 non-null   object\n",
      " 6   quantity_sold(before_promo)  1500 non-null   int64 \n",
      " 7   quantity_sold(after_promo)   1500 non-null   int64 \n",
      " 8   city                         1500 non-null   object\n",
      " 9   product_name                 1500 non-null   object\n",
      " 10  category                     1500 non-null   object\n",
      " 11  campaign_name                1500 non-null   object\n",
      " 12  start_date                   1500 non-null   object\n",
      " 13  end_date                     1500 non-null   object\n",
      "dtypes: int64(3), object(11)\n",
      "memory usage: 164.2+ KB\n"
     ]
    }
   ],
   "source": [
    "df.info()"
   ]
  },
  {
   "cell_type": "code",
   "execution_count": 34,
   "metadata": {},
   "outputs": [
    {
     "name": "stderr",
     "output_type": "stream",
     "text": [
      "C:\\Users\\rg67266\\AppData\\Local\\Temp\\ipykernel_7072\\3086893986.py:3: UserWarning: Parsing dates in %d-%m-%Y format when dayfirst=False (the default) was specified. Pass `dayfirst=True` or specify a format to silence this warning.\n",
      "  df[\"end_date\"] = pd.to_datetime(df['end_date'])\n"
     ]
    }
   ],
   "source": [
    "# Change the date columns data types\n",
    "df[\"start_date\"] = pd.to_datetime(df['start_date'])\n",
    "df[\"end_date\"] = pd.to_datetime(df['end_date'])"
   ]
  },
  {
   "cell_type": "code",
   "execution_count": 35,
   "metadata": {},
   "outputs": [
    {
     "name": "stdout",
     "output_type": "stream",
     "text": [
      "<class 'pandas.core.frame.DataFrame'>\n",
      "RangeIndex: 1500 entries, 0 to 1499\n",
      "Data columns (total 14 columns):\n",
      " #   Column                       Non-Null Count  Dtype         \n",
      "---  ------                       --------------  -----         \n",
      " 0   event_id                     1500 non-null   object        \n",
      " 1   store_id                     1500 non-null   object        \n",
      " 2   campaign_id                  1500 non-null   object        \n",
      " 3   product_code                 1500 non-null   object        \n",
      " 4   base_price                   1500 non-null   int64         \n",
      " 5   promo_type                   1500 non-null   object        \n",
      " 6   quantity_sold(before_promo)  1500 non-null   int64         \n",
      " 7   quantity_sold(after_promo)   1500 non-null   int64         \n",
      " 8   city                         1500 non-null   object        \n",
      " 9   product_name                 1500 non-null   object        \n",
      " 10  category                     1500 non-null   object        \n",
      " 11  campaign_name                1500 non-null   object        \n",
      " 12  start_date                   1500 non-null   datetime64[ns]\n",
      " 13  end_date                     1500 non-null   datetime64[ns]\n",
      "dtypes: datetime64[ns](2), int64(3), object(9)\n",
      "memory usage: 164.2+ KB\n"
     ]
    }
   ],
   "source": [
    "df.info()"
   ]
  },
  {
   "cell_type": "code",
   "execution_count": 36,
   "metadata": {},
   "outputs": [
    {
     "data": {
      "text/plain": [
       "event_id                               object\n",
       "store_id                               object\n",
       "campaign_id                            object\n",
       "product_code                           object\n",
       "base_price                              int64\n",
       "promo_type                             object\n",
       "quantity_sold(before_promo)             int64\n",
       "quantity_sold(after_promo)              int64\n",
       "city                                   object\n",
       "product_name                           object\n",
       "category                               object\n",
       "campaign_name                          object\n",
       "start_date                     datetime64[ns]\n",
       "end_date                       datetime64[ns]\n",
       "dtype: object"
      ]
     },
     "execution_count": 36,
     "metadata": {},
     "output_type": "execute_result"
    }
   ],
   "source": [
    "df.dtypes"
   ]
  },
  {
   "cell_type": "code",
   "execution_count": 39,
   "metadata": {},
   "outputs": [
    {
     "data": {
      "text/plain": [
       "1500"
      ]
     },
     "execution_count": 39,
     "metadata": {},
     "output_type": "execute_result"
    }
   ],
   "source": [
    "df['event_id'].nunique()\n",
    "# there is no any duplicate values"
   ]
  },
  {
   "cell_type": "code",
   "execution_count": 40,
   "metadata": {},
   "outputs": [
    {
     "data": {
      "text/plain": [
       "event_id                       0\n",
       "store_id                       0\n",
       "campaign_id                    0\n",
       "product_code                   0\n",
       "base_price                     0\n",
       "promo_type                     0\n",
       "quantity_sold(before_promo)    0\n",
       "quantity_sold(after_promo)     0\n",
       "city                           0\n",
       "product_name                   0\n",
       "category                       0\n",
       "campaign_name                  0\n",
       "start_date                     0\n",
       "end_date                       0\n",
       "dtype: int64"
      ]
     },
     "execution_count": 40,
     "metadata": {},
     "output_type": "execute_result"
    }
   ],
   "source": [
    "df.isnull().sum()"
   ]
  },
  {
   "cell_type": "code",
   "execution_count": 41,
   "metadata": {},
   "outputs": [
    {
     "data": {
      "text/html": [
       "<div>\n",
       "<style scoped>\n",
       "    .dataframe tbody tr th:only-of-type {\n",
       "        vertical-align: middle;\n",
       "    }\n",
       "\n",
       "    .dataframe tbody tr th {\n",
       "        vertical-align: top;\n",
       "    }\n",
       "\n",
       "    .dataframe thead th {\n",
       "        text-align: right;\n",
       "    }\n",
       "</style>\n",
       "<table border=\"1\" class=\"dataframe\">\n",
       "  <thead>\n",
       "    <tr style=\"text-align: right;\">\n",
       "      <th></th>\n",
       "      <th>event_id</th>\n",
       "      <th>store_id</th>\n",
       "      <th>campaign_id</th>\n",
       "      <th>product_code</th>\n",
       "      <th>base_price</th>\n",
       "      <th>promo_type</th>\n",
       "      <th>quantity_sold(before_promo)</th>\n",
       "      <th>quantity_sold(after_promo)</th>\n",
       "      <th>city</th>\n",
       "      <th>product_name</th>\n",
       "      <th>category</th>\n",
       "      <th>campaign_name</th>\n",
       "      <th>start_date</th>\n",
       "      <th>end_date</th>\n",
       "    </tr>\n",
       "  </thead>\n",
       "  <tbody>\n",
       "    <tr>\n",
       "      <th>0</th>\n",
       "      <td>7f650b</td>\n",
       "      <td>STCBE-2</td>\n",
       "      <td>CAMP_SAN_01</td>\n",
       "      <td>P11</td>\n",
       "      <td>190</td>\n",
       "      <td>50% OFF</td>\n",
       "      <td>34</td>\n",
       "      <td>52</td>\n",
       "      <td>Coimbatore</td>\n",
       "      <td>Atliq_Doodh_Kesar_Body_Lotion (200ML)</td>\n",
       "      <td>Personal Care</td>\n",
       "      <td>Sankranti</td>\n",
       "      <td>2024-10-01</td>\n",
       "      <td>2024-01-16</td>\n",
       "    </tr>\n",
       "    <tr>\n",
       "      <th>1</th>\n",
       "      <td>5f2bb8</td>\n",
       "      <td>STBLR-8</td>\n",
       "      <td>CAMP_SAN_01</td>\n",
       "      <td>P11</td>\n",
       "      <td>190</td>\n",
       "      <td>50% OFF</td>\n",
       "      <td>45</td>\n",
       "      <td>62</td>\n",
       "      <td>Bengaluru</td>\n",
       "      <td>Atliq_Doodh_Kesar_Body_Lotion (200ML)</td>\n",
       "      <td>Personal Care</td>\n",
       "      <td>Sankranti</td>\n",
       "      <td>2024-10-01</td>\n",
       "      <td>2024-01-16</td>\n",
       "    </tr>\n",
       "    <tr>\n",
       "      <th>2</th>\n",
       "      <td>6e5da9</td>\n",
       "      <td>STVJD-0</td>\n",
       "      <td>CAMP_SAN_01</td>\n",
       "      <td>P11</td>\n",
       "      <td>190</td>\n",
       "      <td>50% OFF</td>\n",
       "      <td>25</td>\n",
       "      <td>35</td>\n",
       "      <td>Vijayawada</td>\n",
       "      <td>Atliq_Doodh_Kesar_Body_Lotion (200ML)</td>\n",
       "      <td>Personal Care</td>\n",
       "      <td>Sankranti</td>\n",
       "      <td>2024-10-01</td>\n",
       "      <td>2024-01-16</td>\n",
       "    </tr>\n",
       "    <tr>\n",
       "      <th>3</th>\n",
       "      <td>3181a7</td>\n",
       "      <td>STCBE-1</td>\n",
       "      <td>CAMP_SAN_01</td>\n",
       "      <td>P11</td>\n",
       "      <td>190</td>\n",
       "      <td>50% OFF</td>\n",
       "      <td>28</td>\n",
       "      <td>31</td>\n",
       "      <td>Coimbatore</td>\n",
       "      <td>Atliq_Doodh_Kesar_Body_Lotion (200ML)</td>\n",
       "      <td>Personal Care</td>\n",
       "      <td>Sankranti</td>\n",
       "      <td>2024-10-01</td>\n",
       "      <td>2024-01-16</td>\n",
       "    </tr>\n",
       "    <tr>\n",
       "      <th>4</th>\n",
       "      <td>c22ead</td>\n",
       "      <td>STBLR-6</td>\n",
       "      <td>CAMP_SAN_01</td>\n",
       "      <td>P11</td>\n",
       "      <td>190</td>\n",
       "      <td>50% OFF</td>\n",
       "      <td>43</td>\n",
       "      <td>66</td>\n",
       "      <td>Bengaluru</td>\n",
       "      <td>Atliq_Doodh_Kesar_Body_Lotion (200ML)</td>\n",
       "      <td>Personal Care</td>\n",
       "      <td>Sankranti</td>\n",
       "      <td>2024-10-01</td>\n",
       "      <td>2024-01-16</td>\n",
       "    </tr>\n",
       "    <tr>\n",
       "      <th>...</th>\n",
       "      <td>...</td>\n",
       "      <td>...</td>\n",
       "      <td>...</td>\n",
       "      <td>...</td>\n",
       "      <td>...</td>\n",
       "      <td>...</td>\n",
       "      <td>...</td>\n",
       "      <td>...</td>\n",
       "      <td>...</td>\n",
       "      <td>...</td>\n",
       "      <td>...</td>\n",
       "      <td>...</td>\n",
       "      <td>...</td>\n",
       "      <td>...</td>\n",
       "    </tr>\n",
       "    <tr>\n",
       "      <th>1495</th>\n",
       "      <td>f2d198</td>\n",
       "      <td>STTRV-1</td>\n",
       "      <td>CAMP_DIW_01</td>\n",
       "      <td>P03</td>\n",
       "      <td>156</td>\n",
       "      <td>25% OFF</td>\n",
       "      <td>166</td>\n",
       "      <td>157</td>\n",
       "      <td>Trivandrum</td>\n",
       "      <td>Atliq_Suflower_Oil (1L)</td>\n",
       "      <td>Grocery &amp; Staples</td>\n",
       "      <td>Diwali</td>\n",
       "      <td>2023-12-11</td>\n",
       "      <td>2023-11-18</td>\n",
       "    </tr>\n",
       "    <tr>\n",
       "      <th>1496</th>\n",
       "      <td>6c9451</td>\n",
       "      <td>STVSK-0</td>\n",
       "      <td>CAMP_DIW_01</td>\n",
       "      <td>P03</td>\n",
       "      <td>156</td>\n",
       "      <td>25% OFF</td>\n",
       "      <td>259</td>\n",
       "      <td>225</td>\n",
       "      <td>Visakhapatnam</td>\n",
       "      <td>Atliq_Suflower_Oil (1L)</td>\n",
       "      <td>Grocery &amp; Staples</td>\n",
       "      <td>Diwali</td>\n",
       "      <td>2023-12-11</td>\n",
       "      <td>2023-11-18</td>\n",
       "    </tr>\n",
       "    <tr>\n",
       "      <th>1497</th>\n",
       "      <td>32b8a7</td>\n",
       "      <td>STBLR-2</td>\n",
       "      <td>CAMP_DIW_01</td>\n",
       "      <td>P03</td>\n",
       "      <td>156</td>\n",
       "      <td>25% OFF</td>\n",
       "      <td>378</td>\n",
       "      <td>343</td>\n",
       "      <td>Bengaluru</td>\n",
       "      <td>Atliq_Suflower_Oil (1L)</td>\n",
       "      <td>Grocery &amp; Staples</td>\n",
       "      <td>Diwali</td>\n",
       "      <td>2023-12-11</td>\n",
       "      <td>2023-11-18</td>\n",
       "    </tr>\n",
       "    <tr>\n",
       "      <th>1498</th>\n",
       "      <td>d60641</td>\n",
       "      <td>STHYD-0</td>\n",
       "      <td>CAMP_DIW_01</td>\n",
       "      <td>P03</td>\n",
       "      <td>156</td>\n",
       "      <td>25% OFF</td>\n",
       "      <td>351</td>\n",
       "      <td>305</td>\n",
       "      <td>Hyderabad</td>\n",
       "      <td>Atliq_Suflower_Oil (1L)</td>\n",
       "      <td>Grocery &amp; Staples</td>\n",
       "      <td>Diwali</td>\n",
       "      <td>2023-12-11</td>\n",
       "      <td>2023-11-18</td>\n",
       "    </tr>\n",
       "    <tr>\n",
       "      <th>1499</th>\n",
       "      <td>1a1edd</td>\n",
       "      <td>STBLR-7</td>\n",
       "      <td>CAMP_DIW_01</td>\n",
       "      <td>P03</td>\n",
       "      <td>156</td>\n",
       "      <td>25% OFF</td>\n",
       "      <td>343</td>\n",
       "      <td>301</td>\n",
       "      <td>Bengaluru</td>\n",
       "      <td>Atliq_Suflower_Oil (1L)</td>\n",
       "      <td>Grocery &amp; Staples</td>\n",
       "      <td>Diwali</td>\n",
       "      <td>2023-12-11</td>\n",
       "      <td>2023-11-18</td>\n",
       "    </tr>\n",
       "  </tbody>\n",
       "</table>\n",
       "<p>1500 rows × 14 columns</p>\n",
       "</div>"
      ],
      "text/plain": [
       "     event_id store_id  campaign_id product_code  base_price promo_type   \n",
       "0      7f650b  STCBE-2  CAMP_SAN_01          P11         190    50% OFF  \\\n",
       "1      5f2bb8  STBLR-8  CAMP_SAN_01          P11         190    50% OFF   \n",
       "2      6e5da9  STVJD-0  CAMP_SAN_01          P11         190    50% OFF   \n",
       "3      3181a7  STCBE-1  CAMP_SAN_01          P11         190    50% OFF   \n",
       "4      c22ead  STBLR-6  CAMP_SAN_01          P11         190    50% OFF   \n",
       "...       ...      ...          ...          ...         ...        ...   \n",
       "1495   f2d198  STTRV-1  CAMP_DIW_01          P03         156    25% OFF   \n",
       "1496   6c9451  STVSK-0  CAMP_DIW_01          P03         156    25% OFF   \n",
       "1497   32b8a7  STBLR-2  CAMP_DIW_01          P03         156    25% OFF   \n",
       "1498   d60641  STHYD-0  CAMP_DIW_01          P03         156    25% OFF   \n",
       "1499   1a1edd  STBLR-7  CAMP_DIW_01          P03         156    25% OFF   \n",
       "\n",
       "      quantity_sold(before_promo)  quantity_sold(after_promo)           city   \n",
       "0                              34                          52     Coimbatore  \\\n",
       "1                              45                          62      Bengaluru   \n",
       "2                              25                          35     Vijayawada   \n",
       "3                              28                          31     Coimbatore   \n",
       "4                              43                          66      Bengaluru   \n",
       "...                           ...                         ...            ...   \n",
       "1495                          166                         157     Trivandrum   \n",
       "1496                          259                         225  Visakhapatnam   \n",
       "1497                          378                         343      Bengaluru   \n",
       "1498                          351                         305      Hyderabad   \n",
       "1499                          343                         301      Bengaluru   \n",
       "\n",
       "                               product_name           category campaign_name   \n",
       "0     Atliq_Doodh_Kesar_Body_Lotion (200ML)      Personal Care     Sankranti  \\\n",
       "1     Atliq_Doodh_Kesar_Body_Lotion (200ML)      Personal Care     Sankranti   \n",
       "2     Atliq_Doodh_Kesar_Body_Lotion (200ML)      Personal Care     Sankranti   \n",
       "3     Atliq_Doodh_Kesar_Body_Lotion (200ML)      Personal Care     Sankranti   \n",
       "4     Atliq_Doodh_Kesar_Body_Lotion (200ML)      Personal Care     Sankranti   \n",
       "...                                     ...                ...           ...   \n",
       "1495                Atliq_Suflower_Oil (1L)  Grocery & Staples        Diwali   \n",
       "1496                Atliq_Suflower_Oil (1L)  Grocery & Staples        Diwali   \n",
       "1497                Atliq_Suflower_Oil (1L)  Grocery & Staples        Diwali   \n",
       "1498                Atliq_Suflower_Oil (1L)  Grocery & Staples        Diwali   \n",
       "1499                Atliq_Suflower_Oil (1L)  Grocery & Staples        Diwali   \n",
       "\n",
       "     start_date   end_date  \n",
       "0    2024-10-01 2024-01-16  \n",
       "1    2024-10-01 2024-01-16  \n",
       "2    2024-10-01 2024-01-16  \n",
       "3    2024-10-01 2024-01-16  \n",
       "4    2024-10-01 2024-01-16  \n",
       "...         ...        ...  \n",
       "1495 2023-12-11 2023-11-18  \n",
       "1496 2023-12-11 2023-11-18  \n",
       "1497 2023-12-11 2023-11-18  \n",
       "1498 2023-12-11 2023-11-18  \n",
       "1499 2023-12-11 2023-11-18  \n",
       "\n",
       "[1500 rows x 14 columns]"
      ]
     },
     "execution_count": 41,
     "metadata": {},
     "output_type": "execute_result"
    }
   ],
   "source": [
    "df"
   ]
  },
  {
   "cell_type": "code",
   "execution_count": null,
   "metadata": {},
   "outputs": [],
   "source": []
  }
 ],
 "metadata": {
  "kernelspec": {
   "display_name": "Python 3",
   "language": "python",
   "name": "python3"
  },
  "language_info": {
   "codemirror_mode": {
    "name": "ipython",
    "version": 3
   },
   "file_extension": ".py",
   "mimetype": "text/x-python",
   "name": "python",
   "nbconvert_exporter": "python",
   "pygments_lexer": "ipython3",
   "version": "3.11.7"
  }
 },
 "nbformat": 4,
 "nbformat_minor": 2
}
